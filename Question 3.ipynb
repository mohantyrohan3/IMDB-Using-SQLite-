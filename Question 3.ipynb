{
 "cells": [
  {
   "cell_type": "markdown",
   "id": "7ba8ed9a",
   "metadata": {},
   "source": [
    "# Find the movie which has maximum net profit in IMDB Movie Database.\n",
    "# Print the movie name.\n",
    "# Note: Net Profit= Total Earning(Domestic+WorldWide earning) - budget"
   ]
  },
  {
   "cell_type": "code",
   "execution_count": 20,
   "id": "d839c5fc",
   "metadata": {},
   "outputs": [],
   "source": [
    "import pandas as pd\n",
    "pd.options.mode.chained_assignment = None  # default='warn'\n",
    "import sqlite3\n",
    "db=sqlite3.connect(\"IMDB.sqlite\")\n",
    "cur=db.cursor()"
   ]
  },
  {
   "cell_type": "code",
   "execution_count": 21,
   "id": "09aa8ba9",
   "metadata": {
    "scrolled": true
   },
   "outputs": [],
   "source": [
    "df=pd.read_sql_query(\"select Title,Rating,Budget,Domestic,Worldwide from IMDB join earning on IMDB.Movie_id=earning.Movie_id\",db)\n",
    "df.head()\n",
    "df.dtypes\n",
    "df1=df.copy()"
   ]
  },
  {
   "cell_type": "code",
   "execution_count": 24,
   "id": "d4715ff3",
   "metadata": {},
   "outputs": [
    {
     "data": {
      "text/html": [
       "<div>\n",
       "<style scoped>\n",
       "    .dataframe tbody tr th:only-of-type {\n",
       "        vertical-align: middle;\n",
       "    }\n",
       "\n",
       "    .dataframe tbody tr th {\n",
       "        vertical-align: top;\n",
       "    }\n",
       "\n",
       "    .dataframe thead th {\n",
       "        text-align: right;\n",
       "    }\n",
       "</style>\n",
       "<table border=\"1\" class=\"dataframe\">\n",
       "  <thead>\n",
       "    <tr style=\"text-align: right;\">\n",
       "      <th></th>\n",
       "      <th>Title</th>\n",
       "      <th>Rating</th>\n",
       "      <th>Budget</th>\n",
       "      <th>Domestic</th>\n",
       "      <th>Worldwide</th>\n",
       "      <th>Net</th>\n",
       "    </tr>\n",
       "  </thead>\n",
       "  <tbody>\n",
       "    <tr>\n",
       "      <th>0</th>\n",
       "      <td>12 Years a Slave (2013)</td>\n",
       "      <td>8.1</td>\n",
       "      <td>20000000.0</td>\n",
       "      <td>56671993</td>\n",
       "      <td>187733202.0</td>\n",
       "      <td>224405195.0</td>\n",
       "    </tr>\n",
       "    <tr>\n",
       "      <th>1</th>\n",
       "      <td>127 Hours (2010)</td>\n",
       "      <td>7.6</td>\n",
       "      <td>18000000.0</td>\n",
       "      <td>18335230</td>\n",
       "      <td>60738797.0</td>\n",
       "      <td>61074027.0</td>\n",
       "    </tr>\n",
       "    <tr>\n",
       "      <th>2</th>\n",
       "      <td>50/50 (2011)</td>\n",
       "      <td>7.7</td>\n",
       "      <td>8000000.0</td>\n",
       "      <td>35014192</td>\n",
       "      <td>39187783.0</td>\n",
       "      <td>66201975.0</td>\n",
       "    </tr>\n",
       "    <tr>\n",
       "      <th>3</th>\n",
       "      <td>About Time (2013)</td>\n",
       "      <td>7.8</td>\n",
       "      <td>12000000.0</td>\n",
       "      <td>15322921</td>\n",
       "      <td>87100449.0</td>\n",
       "      <td>90423370.0</td>\n",
       "    </tr>\n",
       "    <tr>\n",
       "      <th>4</th>\n",
       "      <td>Amour (2012)</td>\n",
       "      <td>7.9</td>\n",
       "      <td>8900000.0</td>\n",
       "      <td>6739492</td>\n",
       "      <td>19839492.0</td>\n",
       "      <td>17678984.0</td>\n",
       "    </tr>\n",
       "  </tbody>\n",
       "</table>\n",
       "</div>"
      ],
      "text/plain": [
       "                     Title  Rating      Budget  Domestic    Worldwide  \\\n",
       "0  12 Years a Slave (2013)     8.1  20000000.0  56671993  187733202.0   \n",
       "1         127 Hours (2010)     7.6  18000000.0  18335230   60738797.0   \n",
       "2             50/50 (2011)     7.7   8000000.0  35014192   39187783.0   \n",
       "3        About Time (2013)     7.8  12000000.0  15322921   87100449.0   \n",
       "4             Amour (2012)     7.9   8900000.0   6739492   19839492.0   \n",
       "\n",
       "           Net  \n",
       "0  224405195.0  \n",
       "1   61074027.0  \n",
       "2   66201975.0  \n",
       "3   90423370.0  \n",
       "4   17678984.0  "
      ]
     },
     "execution_count": 24,
     "metadata": {},
     "output_type": "execute_result"
    }
   ],
   "source": [
    "final_df=df1[df1[\"Budget\"]!=\"\"]\n",
    "final_df[\"Net\"]=final_df[\"Domestic\"]+final_df[\"Worldwide\"]-final_df[\"Budget\"]\n",
    "final_df.head()"
   ]
  },
  {
   "cell_type": "code",
   "execution_count": 23,
   "id": "07398fb4",
   "metadata": {},
   "outputs": [
    {
     "data": {
      "text/html": [
       "<div>\n",
       "<style scoped>\n",
       "    .dataframe tbody tr th:only-of-type {\n",
       "        vertical-align: middle;\n",
       "    }\n",
       "\n",
       "    .dataframe tbody tr th {\n",
       "        vertical-align: top;\n",
       "    }\n",
       "\n",
       "    .dataframe thead th {\n",
       "        text-align: right;\n",
       "    }\n",
       "</style>\n",
       "<table border=\"1\" class=\"dataframe\">\n",
       "  <thead>\n",
       "    <tr style=\"text-align: right;\">\n",
       "      <th></th>\n",
       "      <th>Title</th>\n",
       "      <th>Rating</th>\n",
       "      <th>Budget</th>\n",
       "      <th>Domestic</th>\n",
       "      <th>Worldwide</th>\n",
       "      <th>Net</th>\n",
       "    </tr>\n",
       "  </thead>\n",
       "  <tbody>\n",
       "    <tr>\n",
       "      <th>79</th>\n",
       "      <td>Star Wars: The Force Awakens (2015)</td>\n",
       "      <td>8.1</td>\n",
       "      <td>245000000.0</td>\n",
       "      <td>936662225</td>\n",
       "      <td>2.068224e+09</td>\n",
       "      <td>2759885849.0</td>\n",
       "    </tr>\n",
       "  </tbody>\n",
       "</table>\n",
       "</div>"
      ],
      "text/plain": [
       "                                  Title  Rating       Budget   Domestic  \\\n",
       "79  Star Wars: The Force Awakens (2015)     8.1  245000000.0  936662225   \n",
       "\n",
       "       Worldwide           Net  \n",
       "79  2.068224e+09  2759885849.0  "
      ]
     },
     "execution_count": 23,
     "metadata": {},
     "output_type": "execute_result"
    }
   ],
   "source": [
    "# Answer\n",
    "ans=final_df[\"Net\"].max()\n",
    "final_df[final_df[\"Net\"]==ans]"
   ]
  }
 ],
 "metadata": {
  "kernelspec": {
   "display_name": "Python 3 (ipykernel)",
   "language": "python",
   "name": "python3"
  },
  "language_info": {
   "codemirror_mode": {
    "name": "ipython",
    "version": 3
   },
   "file_extension": ".py",
   "mimetype": "text/x-python",
   "name": "python",
   "nbconvert_exporter": "python",
   "pygments_lexer": "ipython3",
   "version": "3.9.7"
  }
 },
 "nbformat": 4,
 "nbformat_minor": 5
}
